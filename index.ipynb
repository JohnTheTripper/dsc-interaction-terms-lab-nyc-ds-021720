{
 "cells": [
  {
   "cell_type": "markdown",
   "metadata": {},
   "source": [
    "# Interactions - Lab"
   ]
  },
  {
   "cell_type": "markdown",
   "metadata": {},
   "source": [
    "## Introduction"
   ]
  },
  {
   "cell_type": "markdown",
   "metadata": {},
   "source": [
    "In this lab, you'll explore interactions in the Boston Housing dataset."
   ]
  },
  {
   "cell_type": "markdown",
   "metadata": {},
   "source": [
    "## Objectives"
   ]
  },
  {
   "cell_type": "markdown",
   "metadata": {},
   "source": [
    "You will be able to:\n",
    "- Implement interaction terms in Python using the `sklearn` and `statsmodels` packages \n",
    "- Interpret interaction variables in the context of a real-world problem "
   ]
  },
  {
   "cell_type": "markdown",
   "metadata": {},
   "source": [
    "## Build a baseline model "
   ]
  },
  {
   "cell_type": "markdown",
   "metadata": {},
   "source": [
    "You'll use a couple of built-in functions, which we imported for you below: "
   ]
  },
  {
   "cell_type": "code",
   "execution_count": 1,
   "metadata": {},
   "outputs": [],
   "source": [
    "from sklearn.linear_model import LinearRegression\n",
    "from sklearn.model_selection import cross_val_score\n",
    "from sklearn.model_selection import KFold\n",
    "from sklearn.datasets import load_boston\n",
    "import pandas as pd\n",
    "import numpy as np\n",
    "import matplotlib.pyplot as plt"
   ]
  },
  {
   "cell_type": "markdown",
   "metadata": {},
   "source": [
    "Import the Boston data set using `load_boston()`. We won't bother to preprocess the data in this lab. If you still want to build a model in the end, you can do that, but this lab will just focus on finding meaningful insights in interactions and how they can improve $R^2$ values."
   ]
  },
  {
   "cell_type": "code",
   "execution_count": 3,
   "metadata": {},
   "outputs": [],
   "source": [
    "regression = LinearRegression()\n",
    "boston = load_boston()"
   ]
  },
  {
   "cell_type": "code",
   "execution_count": 4,
   "metadata": {},
   "outputs": [],
   "source": [
    "boston_features = pd.DataFrame(boston.data, columns = boston.feature_names)"
   ]
  },
  {
   "cell_type": "code",
   "execution_count": 5,
   "metadata": {},
   "outputs": [],
   "source": [
    "boston_target = pd.DataFrame(data=boston['target'])\n",
    "boston_target.columns = ['MEDV']"
   ]
  },
  {
   "cell_type": "code",
   "execution_count": 6,
   "metadata": {},
   "outputs": [
    {
     "data": {
      "text/plain": [
       "pandas.core.frame.DataFrame"
      ]
     },
     "execution_count": 6,
     "metadata": {},
     "output_type": "execute_result"
    }
   ],
   "source": [
    "type(boston_target)"
   ]
  },
  {
   "cell_type": "code",
   "execution_count": 7,
   "metadata": {},
   "outputs": [
    {
     "data": {
      "text/plain": [
       "pandas.core.frame.DataFrame"
      ]
     },
     "execution_count": 7,
     "metadata": {},
     "output_type": "execute_result"
    }
   ],
   "source": [
    "type(boston_features)"
   ]
  },
  {
   "cell_type": "markdown",
   "metadata": {},
   "source": [
    "Create a baseline model which includes all the variables in the Boston housing data set to predict the house prices. Then use 10-fold cross-validation and report the mean $R^2$ value as the baseline $R^2$."
   ]
  },
  {
   "cell_type": "code",
   "execution_count": 14,
   "metadata": {},
   "outputs": [],
   "source": [
    "X = boston_features\n",
    "y = boston_target"
   ]
  },
  {
   "cell_type": "code",
   "execution_count": 10,
   "metadata": {},
   "outputs": [],
   "source": [
    "from statsmodels.regression.linear_model import OLS"
   ]
  },
  {
   "cell_type": "code",
   "execution_count": 43,
   "metadata": {},
   "outputs": [],
   "source": [
    "## code here\n",
    "model = OLS(y, X).fit()"
   ]
  },
  {
   "cell_type": "code",
   "execution_count": 37,
   "metadata": {},
   "outputs": [],
   "source": [
    "from sklearn.metrics import mean_squared_error\n",
    "from sklearn.model_selection import cross_val_score"
   ]
  },
  {
   "cell_type": "code",
   "execution_count": 53,
   "metadata": {},
   "outputs": [
    {
     "data": {
      "text/plain": [
       "0.7190106820189475"
      ]
     },
     "execution_count": 53,
     "metadata": {},
     "output_type": "execute_result"
    }
   ],
   "source": [
    "regression = LinearRegression()\n",
    "crossvalidation = KFold(n_splits=10, shuffle=True, random_state=1)\n",
    "\n",
    "baseline = np.mean(cross_val_score(regression, X, y, scoring='r2', cv=crossvalidation))\n",
    "baseline"
   ]
  },
  {
   "cell_type": "markdown",
   "metadata": {},
   "source": [
    "## See how interactions improve your baseline"
   ]
  },
  {
   "cell_type": "markdown",
   "metadata": {},
   "source": [
    "Next, create all possible combinations of interactions, loop over them and add them to the baseline model one by one to see how they affect the $R^2$. We'll look at the 3 interactions which have the biggest effect on our $R^2$, so print out the top 3 combinations.\n",
    "\n",
    "You will create a `for` loop to loop through all the combinations of 2 predictors. You can use `combinations` from itertools to create a list of all the pairwise combinations. To find more info on how this is done, have a look [here](https://docs.python.org/2/library/itertools.html)."
   ]
  },
  {
   "cell_type": "code",
   "execution_count": 52,
   "metadata": {},
   "outputs": [],
   "source": [
    "from itertools import combinations\n",
    "combinations = list(combinations(boston.feature_names, 2))"
   ]
  },
  {
   "cell_type": "code",
   "execution_count": 58,
   "metadata": {},
   "outputs": [
    {
     "data": {
      "text/plain": [
       "'CRIM'"
      ]
     },
     "execution_count": 58,
     "metadata": {},
     "output_type": "execute_result"
    }
   ],
   "source": [
    "combinations[1][0]"
   ]
  },
  {
   "cell_type": "code",
   "execution_count": 57,
   "metadata": {},
   "outputs": [
    {
     "data": {
      "text/plain": [
       "0.7180024566678991"
      ]
     },
     "execution_count": 57,
     "metadata": {},
     "output_type": "execute_result"
    }
   ],
   "source": [
    "X_interact = X.copy()\n",
    "X_interact['interaction'] = X['CRIM'] * X['INDUS']\n",
    "\n",
    "interaction = np.mean(cross_val_score(regression, X_interact, y, scoring='r2', cv=crossvalidation))\n",
    "interaction"
   ]
  },
  {
   "cell_type": "code",
   "execution_count": 61,
   "metadata": {
    "scrolled": true
   },
   "outputs": [
    {
     "data": {
      "text/plain": [
       "0.7180024566678991"
      ]
     },
     "execution_count": 61,
     "metadata": {},
     "output_type": "execute_result"
    }
   ],
   "source": [
    "X_interact = X.copy()\n",
    "X_interact['interaction'] = X[combinations[1][0]] * X[combinations[1][1]]\n",
    "\n",
    "interaction = np.mean(cross_val_score(regression, X_interact, y, scoring='r2', cv=crossvalidation))\n",
    "interaction"
   ]
  },
  {
   "cell_type": "code",
   "execution_count": 73,
   "metadata": {
    "scrolled": false
   },
   "outputs": [
    {
     "name": "stdout",
     "output_type": "stream",
     "text": [
      "[8]\n",
      "[1, 3, 5, 4, 7]\n"
     ]
    }
   ],
   "source": [
    "highest = []\n",
    "\n",
    "test = [1, 3, 5, 8, 4, 7]\n",
    "\n",
    "highest.append((max(test)))\n",
    "test.remove(max(test))\n",
    "\n",
    "print(highest)\n",
    "print(test)"
   ]
  },
  {
   "cell_type": "code",
   "execution_count": 78,
   "metadata": {
    "scrolled": true
   },
   "outputs": [
    {
     "name": "stdout",
     "output_type": "stream",
     "text": [
      "[[('CRIM', 'ZN'), 'word'], [('CRIM', 'INDUS'), 'word'], [('CRIM', 'CHAS'), 'word'], [('CRIM', 'NOX'), 'word'], [('CRIM', 'RM'), 'word'], [('CRIM', 'AGE'), 'word'], [('CRIM', 'DIS'), 'word'], [('CRIM', 'RAD'), 'word'], [('CRIM', 'TAX'), 'word'], [('CRIM', 'PTRATIO'), 'word'], [('CRIM', 'B'), 'word'], [('CRIM', 'LSTAT'), 'word'], [('ZN', 'INDUS'), 'word'], [('ZN', 'CHAS'), 'word'], [('ZN', 'NOX'), 'word'], [('ZN', 'RM'), 'word'], [('ZN', 'AGE'), 'word'], [('ZN', 'DIS'), 'word'], [('ZN', 'RAD'), 'word'], [('ZN', 'TAX'), 'word'], [('ZN', 'PTRATIO'), 'word'], [('ZN', 'B'), 'word'], [('ZN', 'LSTAT'), 'word'], [('INDUS', 'CHAS'), 'word'], [('INDUS', 'NOX'), 'word'], [('INDUS', 'RM'), 'word'], [('INDUS', 'AGE'), 'word'], [('INDUS', 'DIS'), 'word'], [('INDUS', 'RAD'), 'word'], [('INDUS', 'TAX'), 'word'], [('INDUS', 'PTRATIO'), 'word'], [('INDUS', 'B'), 'word'], [('INDUS', 'LSTAT'), 'word'], [('CHAS', 'NOX'), 'word'], [('CHAS', 'RM'), 'word'], [('CHAS', 'AGE'), 'word'], [('CHAS', 'DIS'), 'word'], [('CHAS', 'RAD'), 'word'], [('CHAS', 'TAX'), 'word'], [('CHAS', 'PTRATIO'), 'word'], [('CHAS', 'B'), 'word'], [('CHAS', 'LSTAT'), 'word'], [('NOX', 'RM'), 'word'], [('NOX', 'AGE'), 'word'], [('NOX', 'DIS'), 'word'], [('NOX', 'RAD'), 'word'], [('NOX', 'TAX'), 'word'], [('NOX', 'PTRATIO'), 'word'], [('NOX', 'B'), 'word'], [('NOX', 'LSTAT'), 'word'], [('RM', 'AGE'), 'word'], [('RM', 'DIS'), 'word'], [('RM', 'RAD'), 'word'], [('RM', 'TAX'), 'word'], [('RM', 'PTRATIO'), 'word'], [('RM', 'B'), 'word'], [('RM', 'LSTAT'), 'word'], [('AGE', 'DIS'), 'word'], [('AGE', 'RAD'), 'word'], [('AGE', 'TAX'), 'word'], [('AGE', 'PTRATIO'), 'word'], [('AGE', 'B'), 'word'], [('AGE', 'LSTAT'), 'word'], [('DIS', 'RAD'), 'word'], [('DIS', 'TAX'), 'word'], [('DIS', 'PTRATIO'), 'word'], [('DIS', 'B'), 'word'], [('DIS', 'LSTAT'), 'word'], [('RAD', 'TAX'), 'word'], [('RAD', 'PTRATIO'), 'word'], [('RAD', 'B'), 'word'], [('RAD', 'LSTAT'), 'word'], [('TAX', 'PTRATIO'), 'word'], [('TAX', 'B'), 'word'], [('TAX', 'LSTAT'), 'word'], [('PTRATIO', 'B'), 'word'], [('PTRATIO', 'LSTAT'), 'word'], [('B', 'LSTAT'), 'word']]\n"
     ]
    }
   ],
   "source": [
    "r2_values = []\n",
    "\n",
    "for combo in combinations:\n",
    "    X_interact = X.copy()\n",
    "    X_interact['interaction'] = X[combo[0]] * X[combo[1]]\n",
    "\n",
    "    r2_values.append([combo, 'word'])\n",
    "\n",
    "print(r2_values)"
   ]
  },
  {
   "cell_type": "code",
   "execution_count": 79,
   "metadata": {},
   "outputs": [
    {
     "name": "stdout",
     "output_type": "stream",
     "text": [
      "[('CRIM', 'ZN'), 'word']\n"
     ]
    }
   ],
   "source": [
    "print(r2_values[0])"
   ]
  },
  {
   "cell_type": "code",
   "execution_count": 81,
   "metadata": {},
   "outputs": [
    {
     "data": {
      "text/plain": [
       "'word'"
      ]
     },
     "execution_count": 81,
     "metadata": {},
     "output_type": "execute_result"
    }
   ],
   "source": [
    "r2_values[0][1]"
   ]
  },
  {
   "cell_type": "code",
   "execution_count": 83,
   "metadata": {
    "scrolled": true
   },
   "outputs": [],
   "source": [
    "r2_values = []\n",
    "for combo in combinations:\n",
    "    X_interact = X.copy()\n",
    "    X_interact['interaction'] = X[combo[0]] * X[combo[1]]\n",
    "\n",
    "    r2_values.append([combo, np.mean(cross_val_score(regression, X_interact, y, scoring='r2', cv=crossvalidation))])"
   ]
  },
  {
   "cell_type": "code",
   "execution_count": 85,
   "metadata": {
    "scrolled": true
   },
   "outputs": [
    {
     "data": {
      "text/plain": [
       "0.7180486571803364"
      ]
     },
     "execution_count": 85,
     "metadata": {},
     "output_type": "execute_result"
    }
   ],
   "source": [
    "r2_values[0][1]"
   ]
  },
  {
   "cell_type": "code",
   "execution_count": 91,
   "metadata": {},
   "outputs": [
    {
     "name": "stdout",
     "output_type": "stream",
     "text": [
      "[[('RM', 'TAX'), 0.7750525123747651], [('RM', 'PTRATIO'), 0.7633759067582868], [('RM', 'B'), 0.7385665707082879]]\n"
     ]
    }
   ],
   "source": [
    "r2_val_only = []\n",
    "top_three = []\n",
    "x = 0\n",
    "while x < 3:\n",
    "    for combo, r2 in r2_values:\n",
    "        r2_val_only.append(r2)\n",
    "    # r2_val_only.index(max(r2_val_only))\n",
    "    top_three.append(r2_values[r2_val_only.index(max(r2_val_only))])\n",
    "    del r2_values[r2_val_only.index(max(r2_val_only))]\n",
    "    x += 1\n",
    "print(top_three)"
   ]
  },
  {
   "cell_type": "code",
   "execution_count": null,
   "metadata": {},
   "outputs": [],
   "source": [
    "## code to find top 3 interactions by R^2 value here"
   ]
  },
  {
   "cell_type": "markdown",
   "metadata": {},
   "source": [
    "## Look at the top 3 interactions: \"RM\" as a confounding factor"
   ]
  },
  {
   "cell_type": "markdown",
   "metadata": {},
   "source": [
    "The top three interactions seem to involve \"RM\", the number of rooms as a confounding variable for all of them. Let's have a look at interaction plots for all three of them. This exercise will involve:\n",
    "\n",
    "- Splitting the data up in 3 groups: one for houses with a few rooms, one for houses with a \"medium\" amount of rooms, one for a high amount of rooms \n",
    "- Create a function `build_interaction_rm()`. This function takes an argument `varname` (which can be set equal to the column name as a string) and a column `description` (which describes the variable or varname, to be included on the x-axis of the plot). The function outputs a plot that uses \"RM\" as a confounding factor. Each plot should have three regression lines, one for each level of \"RM\"  "
   ]
  },
  {
   "cell_type": "markdown",
   "metadata": {},
   "source": [
    "The data has been split into high, medium, and low number of rooms for you."
   ]
  },
  {
   "cell_type": "code",
   "execution_count": 104,
   "metadata": {},
   "outputs": [],
   "source": [
    "boston_feat_tar = pd.concat([boston_features, boston_target], axis=1)"
   ]
  },
  {
   "cell_type": "code",
   "execution_count": 112,
   "metadata": {},
   "outputs": [
    {
     "data": {
      "text/html": [
       "<div>\n",
       "<style scoped>\n",
       "    .dataframe tbody tr th:only-of-type {\n",
       "        vertical-align: middle;\n",
       "    }\n",
       "\n",
       "    .dataframe tbody tr th {\n",
       "        vertical-align: top;\n",
       "    }\n",
       "\n",
       "    .dataframe thead th {\n",
       "        text-align: right;\n",
       "    }\n",
       "</style>\n",
       "<table border=\"1\" class=\"dataframe\">\n",
       "  <thead>\n",
       "    <tr style=\"text-align: right;\">\n",
       "      <th></th>\n",
       "      <th>CRIM</th>\n",
       "      <th>ZN</th>\n",
       "      <th>INDUS</th>\n",
       "      <th>CHAS</th>\n",
       "      <th>NOX</th>\n",
       "      <th>RM</th>\n",
       "      <th>AGE</th>\n",
       "      <th>DIS</th>\n",
       "      <th>RAD</th>\n",
       "      <th>TAX</th>\n",
       "      <th>PTRATIO</th>\n",
       "      <th>B</th>\n",
       "      <th>LSTAT</th>\n",
       "      <th>MEDV</th>\n",
       "    </tr>\n",
       "  </thead>\n",
       "  <tbody>\n",
       "    <tr>\n",
       "      <td>0</td>\n",
       "      <td>0.00632</td>\n",
       "      <td>18.0</td>\n",
       "      <td>2.31</td>\n",
       "      <td>0.0</td>\n",
       "      <td>0.538</td>\n",
       "      <td>6.575</td>\n",
       "      <td>65.2</td>\n",
       "      <td>4.0900</td>\n",
       "      <td>1.0</td>\n",
       "      <td>296.0</td>\n",
       "      <td>15.3</td>\n",
       "      <td>396.90</td>\n",
       "      <td>4.98</td>\n",
       "      <td>24.0</td>\n",
       "    </tr>\n",
       "    <tr>\n",
       "      <td>1</td>\n",
       "      <td>0.02731</td>\n",
       "      <td>0.0</td>\n",
       "      <td>7.07</td>\n",
       "      <td>0.0</td>\n",
       "      <td>0.469</td>\n",
       "      <td>6.421</td>\n",
       "      <td>78.9</td>\n",
       "      <td>4.9671</td>\n",
       "      <td>2.0</td>\n",
       "      <td>242.0</td>\n",
       "      <td>17.8</td>\n",
       "      <td>396.90</td>\n",
       "      <td>9.14</td>\n",
       "      <td>21.6</td>\n",
       "    </tr>\n",
       "    <tr>\n",
       "      <td>2</td>\n",
       "      <td>0.02729</td>\n",
       "      <td>0.0</td>\n",
       "      <td>7.07</td>\n",
       "      <td>0.0</td>\n",
       "      <td>0.469</td>\n",
       "      <td>7.185</td>\n",
       "      <td>61.1</td>\n",
       "      <td>4.9671</td>\n",
       "      <td>2.0</td>\n",
       "      <td>242.0</td>\n",
       "      <td>17.8</td>\n",
       "      <td>392.83</td>\n",
       "      <td>4.03</td>\n",
       "      <td>34.7</td>\n",
       "    </tr>\n",
       "    <tr>\n",
       "      <td>3</td>\n",
       "      <td>0.03237</td>\n",
       "      <td>0.0</td>\n",
       "      <td>2.18</td>\n",
       "      <td>0.0</td>\n",
       "      <td>0.458</td>\n",
       "      <td>6.998</td>\n",
       "      <td>45.8</td>\n",
       "      <td>6.0622</td>\n",
       "      <td>3.0</td>\n",
       "      <td>222.0</td>\n",
       "      <td>18.7</td>\n",
       "      <td>394.63</td>\n",
       "      <td>2.94</td>\n",
       "      <td>33.4</td>\n",
       "    </tr>\n",
       "    <tr>\n",
       "      <td>4</td>\n",
       "      <td>0.06905</td>\n",
       "      <td>0.0</td>\n",
       "      <td>2.18</td>\n",
       "      <td>0.0</td>\n",
       "      <td>0.458</td>\n",
       "      <td>7.147</td>\n",
       "      <td>54.2</td>\n",
       "      <td>6.0622</td>\n",
       "      <td>3.0</td>\n",
       "      <td>222.0</td>\n",
       "      <td>18.7</td>\n",
       "      <td>396.90</td>\n",
       "      <td>5.33</td>\n",
       "      <td>36.2</td>\n",
       "    </tr>\n",
       "    <tr>\n",
       "      <td>...</td>\n",
       "      <td>...</td>\n",
       "      <td>...</td>\n",
       "      <td>...</td>\n",
       "      <td>...</td>\n",
       "      <td>...</td>\n",
       "      <td>...</td>\n",
       "      <td>...</td>\n",
       "      <td>...</td>\n",
       "      <td>...</td>\n",
       "      <td>...</td>\n",
       "      <td>...</td>\n",
       "      <td>...</td>\n",
       "      <td>...</td>\n",
       "      <td>...</td>\n",
       "    </tr>\n",
       "    <tr>\n",
       "      <td>501</td>\n",
       "      <td>0.06263</td>\n",
       "      <td>0.0</td>\n",
       "      <td>11.93</td>\n",
       "      <td>0.0</td>\n",
       "      <td>0.573</td>\n",
       "      <td>6.593</td>\n",
       "      <td>69.1</td>\n",
       "      <td>2.4786</td>\n",
       "      <td>1.0</td>\n",
       "      <td>273.0</td>\n",
       "      <td>21.0</td>\n",
       "      <td>391.99</td>\n",
       "      <td>9.67</td>\n",
       "      <td>22.4</td>\n",
       "    </tr>\n",
       "    <tr>\n",
       "      <td>502</td>\n",
       "      <td>0.04527</td>\n",
       "      <td>0.0</td>\n",
       "      <td>11.93</td>\n",
       "      <td>0.0</td>\n",
       "      <td>0.573</td>\n",
       "      <td>6.120</td>\n",
       "      <td>76.7</td>\n",
       "      <td>2.2875</td>\n",
       "      <td>1.0</td>\n",
       "      <td>273.0</td>\n",
       "      <td>21.0</td>\n",
       "      <td>396.90</td>\n",
       "      <td>9.08</td>\n",
       "      <td>20.6</td>\n",
       "    </tr>\n",
       "    <tr>\n",
       "      <td>503</td>\n",
       "      <td>0.06076</td>\n",
       "      <td>0.0</td>\n",
       "      <td>11.93</td>\n",
       "      <td>0.0</td>\n",
       "      <td>0.573</td>\n",
       "      <td>6.976</td>\n",
       "      <td>91.0</td>\n",
       "      <td>2.1675</td>\n",
       "      <td>1.0</td>\n",
       "      <td>273.0</td>\n",
       "      <td>21.0</td>\n",
       "      <td>396.90</td>\n",
       "      <td>5.64</td>\n",
       "      <td>23.9</td>\n",
       "    </tr>\n",
       "    <tr>\n",
       "      <td>504</td>\n",
       "      <td>0.10959</td>\n",
       "      <td>0.0</td>\n",
       "      <td>11.93</td>\n",
       "      <td>0.0</td>\n",
       "      <td>0.573</td>\n",
       "      <td>6.794</td>\n",
       "      <td>89.3</td>\n",
       "      <td>2.3889</td>\n",
       "      <td>1.0</td>\n",
       "      <td>273.0</td>\n",
       "      <td>21.0</td>\n",
       "      <td>393.45</td>\n",
       "      <td>6.48</td>\n",
       "      <td>22.0</td>\n",
       "    </tr>\n",
       "    <tr>\n",
       "      <td>505</td>\n",
       "      <td>0.04741</td>\n",
       "      <td>0.0</td>\n",
       "      <td>11.93</td>\n",
       "      <td>0.0</td>\n",
       "      <td>0.573</td>\n",
       "      <td>6.030</td>\n",
       "      <td>80.8</td>\n",
       "      <td>2.5050</td>\n",
       "      <td>1.0</td>\n",
       "      <td>273.0</td>\n",
       "      <td>21.0</td>\n",
       "      <td>396.90</td>\n",
       "      <td>7.88</td>\n",
       "      <td>11.9</td>\n",
       "    </tr>\n",
       "  </tbody>\n",
       "</table>\n",
       "<p>506 rows × 14 columns</p>\n",
       "</div>"
      ],
      "text/plain": [
       "        CRIM    ZN  INDUS  CHAS    NOX     RM   AGE     DIS  RAD    TAX  \\\n",
       "0    0.00632  18.0   2.31   0.0  0.538  6.575  65.2  4.0900  1.0  296.0   \n",
       "1    0.02731   0.0   7.07   0.0  0.469  6.421  78.9  4.9671  2.0  242.0   \n",
       "2    0.02729   0.0   7.07   0.0  0.469  7.185  61.1  4.9671  2.0  242.0   \n",
       "3    0.03237   0.0   2.18   0.0  0.458  6.998  45.8  6.0622  3.0  222.0   \n",
       "4    0.06905   0.0   2.18   0.0  0.458  7.147  54.2  6.0622  3.0  222.0   \n",
       "..       ...   ...    ...   ...    ...    ...   ...     ...  ...    ...   \n",
       "501  0.06263   0.0  11.93   0.0  0.573  6.593  69.1  2.4786  1.0  273.0   \n",
       "502  0.04527   0.0  11.93   0.0  0.573  6.120  76.7  2.2875  1.0  273.0   \n",
       "503  0.06076   0.0  11.93   0.0  0.573  6.976  91.0  2.1675  1.0  273.0   \n",
       "504  0.10959   0.0  11.93   0.0  0.573  6.794  89.3  2.3889  1.0  273.0   \n",
       "505  0.04741   0.0  11.93   0.0  0.573  6.030  80.8  2.5050  1.0  273.0   \n",
       "\n",
       "     PTRATIO       B  LSTAT  MEDV  \n",
       "0       15.3  396.90   4.98  24.0  \n",
       "1       17.8  396.90   9.14  21.6  \n",
       "2       17.8  392.83   4.03  34.7  \n",
       "3       18.7  394.63   2.94  33.4  \n",
       "4       18.7  396.90   5.33  36.2  \n",
       "..       ...     ...    ...   ...  \n",
       "501     21.0  391.99   9.67  22.4  \n",
       "502     21.0  396.90   9.08  20.6  \n",
       "503     21.0  396.90   5.64  23.9  \n",
       "504     21.0  393.45   6.48  22.0  \n",
       "505     21.0  396.90   7.88  11.9  \n",
       "\n",
       "[506 rows x 14 columns]"
      ]
     },
     "execution_count": 112,
     "metadata": {},
     "output_type": "execute_result"
    }
   ],
   "source": [
    "boston_feat_tar"
   ]
  },
  {
   "cell_type": "code",
   "execution_count": 93,
   "metadata": {},
   "outputs": [],
   "source": [
    "rm = np.asarray(boston_feat_tar[['RM']]).reshape(len(boston_feat_tar[['RM']]))"
   ]
  },
  {
   "cell_type": "code",
   "execution_count": 105,
   "metadata": {},
   "outputs": [],
   "source": [
    "high_rm = boston_feat_tar[rm > np.percentile(rm, 67)]\n",
    "med_rm = boston_feat_tar[(rm > np.percentile(rm, 33)) & (rm <= np.percentile(rm, 67))]\n",
    "low_rm = boston_feat_tar[rm <= np.percentile(rm, 33)]"
   ]
  },
  {
   "cell_type": "markdown",
   "metadata": {},
   "source": [
    "Create `build_interaction_rm()`."
   ]
  },
  {
   "cell_type": "code",
   "execution_count": 115,
   "metadata": {},
   "outputs": [],
   "source": [
    "def build_interaction_rm(varname, description):\n",
    "    regression_1 = LinearRegression()\n",
    "    regression_2 = LinearRegression()\n",
    "    regression_3 = LinearRegression()\n",
    "\n",
    "    rm_1 = high_rm[varname].values.reshape(-1, 1)\n",
    "    rm_2 = med_rm[varname].values.reshape(-1, 1)\n",
    "    rm_3 = low_rm[varname].values.reshape(-1, 1)\n",
    "\n",
    "    regression_1.fit(rm_1, high_rm['MEDV'])\n",
    "    regression_2.fit(rm_2, med_rm['MEDV'])\n",
    "    regression_3.fit(rm_3, low_rm['MEDV'])\n",
    "\n",
    "    pred_1 = regression_1.predict(rm_1)\n",
    "    pred_2 = regression_2.predict(rm_2)\n",
    "    pred_3 = regression_3.predict(rm_3)\n",
    "    plt.figure(figsize=(10,8))\n",
    "\n",
    "    plt.scatter(rm_1, high_rm['MEDV'],  color='blue', alpha = 0.3, label = 'most rooms')\n",
    "    plt.scatter(rm_2, med_rm['MEDV'],  color='red', alpha = 0.3, label = 'medium rooms')\n",
    "    plt.scatter(rm_3, low_rm['MEDV'],  color='green', alpha = 0.3, label = 'least rooms')\n",
    "\n",
    "    plt.plot(rm_1, pred_1,  color='blue', linewidth=2)\n",
    "    plt.plot(rm_2, pred_2,  color='red', linewidth=2)\n",
    "    plt.plot(rm_3, pred_3,  color='green', linewidth=2)\n",
    "\n",
    "    plt.ylabel('Median Value')\n",
    "    plt.xlabel(description)\n",
    "    plt.legend();"
   ]
  },
  {
   "cell_type": "markdown",
   "metadata": {},
   "source": [
    "Next, use `build_interaction_rm()` with the three variables that came out with the highest effect on $R^2$. "
   ]
  },
  {
   "cell_type": "code",
   "execution_count": 116,
   "metadata": {
    "scrolled": false
   },
   "outputs": [
    {
     "data": {
      "image/png": "[encoded data removed]",
      "text/plain": [
       "<Figure size 720x576 with 1 Axes>"
      ]
     },
     "metadata": {
      "needs_background": "light"
     },
     "output_type": "display_data"
    }
   ],
   "source": [
    "build_interaction_rm('TAX', 'Taxes')"
   ]
  },
  {
   "cell_type": "code",
   "execution_count": null,
   "metadata": {},
   "outputs": [],
   "source": []
  },
  {
   "cell_type": "code",
   "execution_count": 117,
   "metadata": {},
   "outputs": [
    {
     "data": {
      "image/png": "[encoded data removed]",
      "text/plain": [
       "<Figure size 720x576 with 1 Axes>"
      ]
     },
     "metadata": {
      "needs_background": "light"
     },
     "output_type": "display_data"
    }
   ],
   "source": [
    "# first plot\n",
    "build_interaction_rm('TAX', 'Taxes')"
   ]
  },
  {
   "cell_type": "code",
   "execution_count": 118,
   "metadata": {},
   "outputs": [
    {
     "data": {
      "image/png": "[encoded data removed]",
      "text/plain": [
       "<Figure size 720x576 with 1 Axes>"
      ]
     },
     "metadata": {
      "needs_background": "light"
     },
     "output_type": "display_data"
    }
   ],
   "source": [
    "# second plot\n",
    "build_interaction_rm('PTRATIO', 'PT Ratio')"
   ]
  },
  {
   "cell_type": "code",
   "execution_count": 119,
   "metadata": {},
   "outputs": [
    {
     "data": {
      "image/png": "[encoded data removed]",
      "text/plain": [
       "<Figure size 720x576 with 1 Axes>"
      ]
     },
     "metadata": {
      "needs_background": "light"
     },
     "output_type": "display_data"
    }
   ],
   "source": [
    "# third plot\n",
    "build_interaction_rm('B', 'B')"
   ]
  },
  {
   "cell_type": "markdown",
   "metadata": {},
   "source": [
    "## Build a final model including all three interactions at once"
   ]
  },
  {
   "cell_type": "markdown",
   "metadata": {},
   "source": [
    "Use 10-fold cross-validation to build a model using all the above interactions. "
   ]
  },
  {
   "cell_type": "code",
   "execution_count": 128,
   "metadata": {},
   "outputs": [
    {
     "data": {
      "text/plain": [
       "0.7851258138384731"
      ]
     },
     "execution_count": 128,
     "metadata": {},
     "output_type": "execute_result"
    }
   ],
   "source": [
    "# code here\n",
    "regression = LinearRegression()\n",
    "crossvalidation = KFold(n_splits=10, shuffle=True, random_state=88)\n",
    "\n",
    "X_interact = X.copy()\n",
    "X_interact['RM_TAX'] = X['RM'] * X['TAX']\n",
    "X_interact['RM_PTRATIO'] = X['RM'] * X['PTRATIO']\n",
    "X_interact['RM_B'] = X['RM'] * X['B']\n",
    "\n",
    "interact_rm = np.mean(cross_val_score(regression, X_interact, y, scoring='r2', cv=crossvalidation))\n",
    "interact_rm"
   ]
  },
  {
   "cell_type": "markdown",
   "metadata": {},
   "source": [
    "Our $R^2$ has increased considerably! Let's have a look in `statsmodels` to see if all these interactions are significant."
   ]
  },
  {
   "cell_type": "code",
   "execution_count": 129,
   "metadata": {},
   "outputs": [
    {
     "name": "stderr",
     "output_type": "stream",
     "text": [
      "/opt/conda/envs/learn-env/lib/python3.6/site-packages/numpy/core/fromnumeric.py:2495: FutureWarning: Method .ptp is deprecated and will be removed in a future version. Use numpy.ptp instead.\n",
      "  return ptp(axis=axis, out=out, **kwargs)\n"
     ]
    },
    {
     "data": {
      "text/html": [
       "<table class=\"simpletable\">\n",
       "<caption>OLS Regression Results</caption>\n",
       "<tr>\n",
       "  <th>Dep. Variable:</th>          <td>MEDV</td>       <th>  R-squared:         </th> <td>   0.804</td> \n",
       "</tr>\n",
       "<tr>\n",
       "  <th>Model:</th>                   <td>OLS</td>       <th>  Adj. R-squared:    </th> <td>   0.798</td> \n",
       "</tr>\n",
       "<tr>\n",
       "  <th>Method:</th>             <td>Least Squares</td>  <th>  F-statistic:       </th> <td>   125.7</td> \n",
       "</tr>\n",
       "<tr>\n",
       "  <th>Date:</th>             <td>Sun, 22 Mar 2020</td> <th>  Prob (F-statistic):</th> <td>1.30e-161</td>\n",
       "</tr>\n",
       "<tr>\n",
       "  <th>Time:</th>                 <td>18:29:34</td>     <th>  Log-Likelihood:    </th> <td> -1427.3</td> \n",
       "</tr>\n",
       "<tr>\n",
       "  <th>No. Observations:</th>      <td>   506</td>      <th>  AIC:               </th> <td>   2889.</td> \n",
       "</tr>\n",
       "<tr>\n",
       "  <th>Df Residuals:</th>          <td>   489</td>      <th>  BIC:               </th> <td>   2961.</td> \n",
       "</tr>\n",
       "<tr>\n",
       "  <th>Df Model:</th>              <td>    16</td>      <th>                     </th>     <td> </td>    \n",
       "</tr>\n",
       "<tr>\n",
       "  <th>Covariance Type:</th>      <td>nonrobust</td>    <th>                     </th>     <td> </td>    \n",
       "</tr>\n",
       "</table>\n",
       "<table class=\"simpletable\">\n",
       "<tr>\n",
       "       <td></td>         <th>coef</th>     <th>std err</th>      <th>t</th>      <th>P>|t|</th>  <th>[0.025</th>    <th>0.975]</th>  \n",
       "</tr>\n",
       "<tr>\n",
       "  <th>const</th>      <td>  -59.2641</td> <td>   17.945</td> <td>   -3.302</td> <td> 0.001</td> <td>  -94.523</td> <td>  -24.005</td>\n",
       "</tr>\n",
       "<tr>\n",
       "  <th>CRIM</th>       <td>   -0.1507</td> <td>    0.029</td> <td>   -5.167</td> <td> 0.000</td> <td>   -0.208</td> <td>   -0.093</td>\n",
       "</tr>\n",
       "<tr>\n",
       "  <th>ZN</th>         <td>    0.0119</td> <td>    0.012</td> <td>    0.967</td> <td> 0.334</td> <td>   -0.012</td> <td>    0.036</td>\n",
       "</tr>\n",
       "<tr>\n",
       "  <th>INDUS</th>      <td>    0.1075</td> <td>    0.054</td> <td>    1.985</td> <td> 0.048</td> <td>    0.001</td> <td>    0.214</td>\n",
       "</tr>\n",
       "<tr>\n",
       "  <th>CHAS</th>       <td>    3.3329</td> <td>    0.753</td> <td>    4.425</td> <td> 0.000</td> <td>    1.853</td> <td>    4.813</td>\n",
       "</tr>\n",
       "<tr>\n",
       "  <th>NOX</th>        <td>  -11.3135</td> <td>    3.386</td> <td>   -3.341</td> <td> 0.001</td> <td>  -17.966</td> <td>   -4.661</td>\n",
       "</tr>\n",
       "<tr>\n",
       "  <th>RM</th>         <td>   17.3793</td> <td>    2.756</td> <td>    6.306</td> <td> 0.000</td> <td>   11.964</td> <td>   22.795</td>\n",
       "</tr>\n",
       "<tr>\n",
       "  <th>AGE</th>        <td>   -0.0120</td> <td>    0.012</td> <td>   -1.033</td> <td> 0.302</td> <td>   -0.035</td> <td>    0.011</td>\n",
       "</tr>\n",
       "<tr>\n",
       "  <th>DIS</th>        <td>   -0.8804</td> <td>    0.180</td> <td>   -4.881</td> <td> 0.000</td> <td>   -1.235</td> <td>   -0.526</td>\n",
       "</tr>\n",
       "<tr>\n",
       "  <th>RAD</th>        <td>    0.2513</td> <td>    0.058</td> <td>    4.329</td> <td> 0.000</td> <td>    0.137</td> <td>    0.365</td>\n",
       "</tr>\n",
       "<tr>\n",
       "  <th>TAX</th>        <td>    0.0657</td> <td>    0.014</td> <td>    4.766</td> <td> 0.000</td> <td>    0.039</td> <td>    0.093</td>\n",
       "</tr>\n",
       "<tr>\n",
       "  <th>PTRATIO</th>    <td>    3.1699</td> <td>    0.890</td> <td>    3.560</td> <td> 0.000</td> <td>    1.420</td> <td>    4.920</td>\n",
       "</tr>\n",
       "<tr>\n",
       "  <th>B</th>          <td>   -0.0478</td> <td>    0.024</td> <td>   -1.996</td> <td> 0.046</td> <td>   -0.095</td> <td>   -0.001</td>\n",
       "</tr>\n",
       "<tr>\n",
       "  <th>LSTAT</th>      <td>   -0.4870</td> <td>    0.045</td> <td>  -10.838</td> <td> 0.000</td> <td>   -0.575</td> <td>   -0.399</td>\n",
       "</tr>\n",
       "<tr>\n",
       "  <th>RM_TAX</th>     <td>   -0.0126</td> <td>    0.002</td> <td>   -5.854</td> <td> 0.000</td> <td>   -0.017</td> <td>   -0.008</td>\n",
       "</tr>\n",
       "<tr>\n",
       "  <th>RM_PTRATIO</th> <td>   -0.6162</td> <td>    0.138</td> <td>   -4.450</td> <td> 0.000</td> <td>   -0.888</td> <td>   -0.344</td>\n",
       "</tr>\n",
       "<tr>\n",
       "  <th>RM_B</th>       <td>    0.0091</td> <td>    0.004</td> <td>    2.318</td> <td> 0.021</td> <td>    0.001</td> <td>    0.017</td>\n",
       "</tr>\n",
       "</table>\n",
       "<table class=\"simpletable\">\n",
       "<tr>\n",
       "  <th>Omnibus:</th>       <td>270.992</td> <th>  Durbin-Watson:     </th> <td>   0.999</td>\n",
       "</tr>\n",
       "<tr>\n",
       "  <th>Prob(Omnibus):</th> <td> 0.000</td>  <th>  Jarque-Bera (JB):  </th> <td>2445.721</td>\n",
       "</tr>\n",
       "<tr>\n",
       "  <th>Skew:</th>          <td> 2.169</td>  <th>  Prob(JB):          </th> <td>    0.00</td>\n",
       "</tr>\n",
       "<tr>\n",
       "  <th>Kurtosis:</th>      <td>12.858</td>  <th>  Cond. No.          </th> <td>3.47e+05</td>\n",
       "</tr>\n",
       "</table><br/><br/>Warnings:<br/>[1] Standard Errors assume that the covariance matrix of the errors is correctly specified.<br/>[2] The condition number is large, 3.47e+05. This might indicate that there are<br/>strong multicollinearity or other numerical problems."
      ],
      "text/plain": [
       "<class 'statsmodels.iolib.summary.Summary'>\n",
       "\"\"\"\n",
       "                            OLS Regression Results                            \n",
       "==============================================================================\n",
       "Dep. Variable:                   MEDV   R-squared:                       0.804\n",
       "Model:                            OLS   Adj. R-squared:                  0.798\n",
       "Method:                 Least Squares   F-statistic:                     125.7\n",
       "Date:                Sun, 22 Mar 2020   Prob (F-statistic):          1.30e-161\n",
       "Time:                        18:29:34   Log-Likelihood:                -1427.3\n",
       "No. Observations:                 506   AIC:                             2889.\n",
       "Df Residuals:                     489   BIC:                             2961.\n",
       "Df Model:                          16                                         \n",
       "Covariance Type:            nonrobust                                         \n",
       "==============================================================================\n",
       "                 coef    std err          t      P>|t|      [0.025      0.975]\n",
       "------------------------------------------------------------------------------\n",
       "const        -59.2641     17.945     -3.302      0.001     -94.523     -24.005\n",
       "CRIM          -0.1507      0.029     -5.167      0.000      -0.208      -0.093\n",
       "ZN             0.0119      0.012      0.967      0.334      -0.012       0.036\n",
       "INDUS          0.1075      0.054      1.985      0.048       0.001       0.214\n",
       "CHAS           3.3329      0.753      4.425      0.000       1.853       4.813\n",
       "NOX          -11.3135      3.386     -3.341      0.001     -17.966      -4.661\n",
       "RM            17.3793      2.756      6.306      0.000      11.964      22.795\n",
       "AGE           -0.0120      0.012     -1.033      0.302      -0.035       0.011\n",
       "DIS           -0.8804      0.180     -4.881      0.000      -1.235      -0.526\n",
       "RAD            0.2513      0.058      4.329      0.000       0.137       0.365\n",
       "TAX            0.0657      0.014      4.766      0.000       0.039       0.093\n",
       "PTRATIO        3.1699      0.890      3.560      0.000       1.420       4.920\n",
       "B             -0.0478      0.024     -1.996      0.046      -0.095      -0.001\n",
       "LSTAT         -0.4870      0.045    -10.838      0.000      -0.575      -0.399\n",
       "RM_TAX        -0.0126      0.002     -5.854      0.000      -0.017      -0.008\n",
       "RM_PTRATIO    -0.6162      0.138     -4.450      0.000      -0.888      -0.344\n",
       "RM_B           0.0091      0.004      2.318      0.021       0.001       0.017\n",
       "==============================================================================\n",
       "Omnibus:                      270.992   Durbin-Watson:                   0.999\n",
       "Prob(Omnibus):                  0.000   Jarque-Bera (JB):             2445.721\n",
       "Skew:                           2.169   Prob(JB):                         0.00\n",
       "Kurtosis:                      12.858   Cond. No.                     3.47e+05\n",
       "==============================================================================\n",
       "\n",
       "Warnings:\n",
       "[1] Standard Errors assume that the covariance matrix of the errors is correctly specified.\n",
       "[2] The condition number is large, 3.47e+05. This might indicate that there are\n",
       "strong multicollinearity or other numerical problems.\n",
       "\"\"\""
      ]
     },
     "execution_count": 129,
     "metadata": {},
     "output_type": "execute_result"
    }
   ],
   "source": [
    "# code here\n",
    "import statsmodels.api as sm\n",
    "X_interact = sm.add_constant(X_interact)\n",
    "model = sm.OLS(y,X_interact)\n",
    "results = model.fit()\n",
    "\n",
    "results.summary()"
   ]
  },
  {
   "cell_type": "markdown",
   "metadata": {},
   "source": [
    "What is your conclusion here?"
   ]
  },
  {
   "cell_type": "code",
   "execution_count": null,
   "metadata": {},
   "outputs": [],
   "source": [
    "# formulate your conclusion\n",
    "# There seems to be an interaction between both (RM and TAX) and (RM and PTRATIO)\n",
    "# Putting these interactions into the model helps improve our R^2!"
   ]
  },
  {
   "cell_type": "code",
   "execution_count": 126,
   "metadata": {
    "scrolled": true
   },
   "outputs": [
    {
     "data": {
      "text/plain": [
       "0.7847466232951598"
      ]
     },
     "execution_count": 126,
     "metadata": {},
     "output_type": "execute_result"
    }
   ],
   "source": [
    "# code here\n",
    "regression = LinearRegression()\n",
    "crossvalidation = KFold(n_splits=10, shuffle=True, random_state=88)\n",
    "\n",
    "X_interact_no_b = X.copy()\n",
    "X_interact_no_b['RM_TAX'] = X['RM'] * X['TAX']\n",
    "X_interact_no_b['RM_PTRATIO'] = X['RM'] * X['PTRATIO']\n",
    "\n",
    "interact_rm_no_b = np.mean(cross_val_score(regression, X_interact_no_b, y, scoring='r2', cv=crossvalidation))\n",
    "interact_rm_no_b"
   ]
  },
  {
   "cell_type": "code",
   "execution_count": 127,
   "metadata": {},
   "outputs": [
    {
     "name": "stderr",
     "output_type": "stream",
     "text": [
      "/opt/conda/envs/learn-env/lib/python3.6/site-packages/numpy/core/fromnumeric.py:2495: FutureWarning: Method .ptp is deprecated and will be removed in a future version. Use numpy.ptp instead.\n",
      "  return ptp(axis=axis, out=out, **kwargs)\n"
     ]
    },
    {
     "data": {
      "text/html": [
       "<table class=\"simpletable\">\n",
       "<caption>OLS Regression Results</caption>\n",
       "<tr>\n",
       "  <th>Dep. Variable:</th>          <td>MEDV</td>       <th>  R-squared:         </th> <td>   0.802</td> \n",
       "</tr>\n",
       "<tr>\n",
       "  <th>Model:</th>                   <td>OLS</td>       <th>  Adj. R-squared:    </th> <td>   0.796</td> \n",
       "</tr>\n",
       "<tr>\n",
       "  <th>Method:</th>             <td>Least Squares</td>  <th>  F-statistic:       </th> <td>   132.6</td> \n",
       "</tr>\n",
       "<tr>\n",
       "  <th>Date:</th>             <td>Sun, 22 Mar 2020</td> <th>  Prob (F-statistic):</th> <td>1.57e-161</td>\n",
       "</tr>\n",
       "<tr>\n",
       "  <th>Time:</th>                 <td>18:29:15</td>     <th>  Log-Likelihood:    </th> <td> -1430.1</td> \n",
       "</tr>\n",
       "<tr>\n",
       "  <th>No. Observations:</th>      <td>   506</td>      <th>  AIC:               </th> <td>   2892.</td> \n",
       "</tr>\n",
       "<tr>\n",
       "  <th>Df Residuals:</th>          <td>   490</td>      <th>  BIC:               </th> <td>   2960.</td> \n",
       "</tr>\n",
       "<tr>\n",
       "  <th>Df Model:</th>              <td>    15</td>      <th>                     </th>     <td> </td>    \n",
       "</tr>\n",
       "<tr>\n",
       "  <th>Covariance Type:</th>      <td>nonrobust</td>    <th>                     </th>     <td> </td>    \n",
       "</tr>\n",
       "</table>\n",
       "<table class=\"simpletable\">\n",
       "<tr>\n",
       "       <td></td>         <th>coef</th>     <th>std err</th>      <th>t</th>      <th>P>|t|</th>  <th>[0.025</th>    <th>0.975]</th>  \n",
       "</tr>\n",
       "<tr>\n",
       "  <th>const</th>      <td>  -82.9787</td> <td>   14.808</td> <td>   -5.604</td> <td> 0.000</td> <td> -112.074</td> <td>  -53.884</td>\n",
       "</tr>\n",
       "<tr>\n",
       "  <th>CRIM</th>       <td>   -0.1396</td> <td>    0.029</td> <td>   -4.831</td> <td> 0.000</td> <td>   -0.196</td> <td>   -0.083</td>\n",
       "</tr>\n",
       "<tr>\n",
       "  <th>ZN</th>         <td>    0.0116</td> <td>    0.012</td> <td>    0.941</td> <td> 0.347</td> <td>   -0.013</td> <td>    0.036</td>\n",
       "</tr>\n",
       "<tr>\n",
       "  <th>INDUS</th>      <td>    0.1124</td> <td>    0.054</td> <td>    2.068</td> <td> 0.039</td> <td>    0.006</td> <td>    0.219</td>\n",
       "</tr>\n",
       "<tr>\n",
       "  <th>CHAS</th>       <td>    3.4039</td> <td>    0.756</td> <td>    4.503</td> <td> 0.000</td> <td>    1.919</td> <td>    4.889</td>\n",
       "</tr>\n",
       "<tr>\n",
       "  <th>NOX</th>        <td>  -11.5527</td> <td>    3.399</td> <td>   -3.398</td> <td> 0.001</td> <td>  -18.232</td> <td>   -4.873</td>\n",
       "</tr>\n",
       "<tr>\n",
       "  <th>RM</th>         <td>   21.3437</td> <td>    2.171</td> <td>    9.832</td> <td> 0.000</td> <td>   17.079</td> <td>   25.609</td>\n",
       "</tr>\n",
       "<tr>\n",
       "  <th>AGE</th>        <td>   -0.0107</td> <td>    0.012</td> <td>   -0.920</td> <td> 0.358</td> <td>   -0.034</td> <td>    0.012</td>\n",
       "</tr>\n",
       "<tr>\n",
       "  <th>DIS</th>        <td>   -0.8739</td> <td>    0.181</td> <td>   -4.824</td> <td> 0.000</td> <td>   -1.230</td> <td>   -0.518</td>\n",
       "</tr>\n",
       "<tr>\n",
       "  <th>RAD</th>        <td>    0.2456</td> <td>    0.058</td> <td>    4.215</td> <td> 0.000</td> <td>    0.131</td> <td>    0.360</td>\n",
       "</tr>\n",
       "<tr>\n",
       "  <th>TAX</th>        <td>    0.0765</td> <td>    0.013</td> <td>    5.875</td> <td> 0.000</td> <td>    0.051</td> <td>    0.102</td>\n",
       "</tr>\n",
       "<tr>\n",
       "  <th>PTRATIO</th>    <td>    3.1725</td> <td>    0.894</td> <td>    3.547</td> <td> 0.000</td> <td>    1.415</td> <td>    4.930</td>\n",
       "</tr>\n",
       "<tr>\n",
       "  <th>B</th>          <td>    0.0074</td> <td>    0.002</td> <td>    3.158</td> <td> 0.002</td> <td>    0.003</td> <td>    0.012</td>\n",
       "</tr>\n",
       "<tr>\n",
       "  <th>LSTAT</th>      <td>   -0.5033</td> <td>    0.045</td> <td>  -11.289</td> <td> 0.000</td> <td>   -0.591</td> <td>   -0.416</td>\n",
       "</tr>\n",
       "<tr>\n",
       "  <th>RM_TAX</th>     <td>   -0.0143</td> <td>    0.002</td> <td>   -7.119</td> <td> 0.000</td> <td>   -0.018</td> <td>   -0.010</td>\n",
       "</tr>\n",
       "<tr>\n",
       "  <th>RM_PTRATIO</th> <td>   -0.6183</td> <td>    0.139</td> <td>   -4.445</td> <td> 0.000</td> <td>   -0.892</td> <td>   -0.345</td>\n",
       "</tr>\n",
       "</table>\n",
       "<table class=\"simpletable\">\n",
       "<tr>\n",
       "  <th>Omnibus:</th>       <td>265.414</td> <th>  Durbin-Watson:     </th> <td>   0.975</td>\n",
       "</tr>\n",
       "<tr>\n",
       "  <th>Prob(Omnibus):</th> <td> 0.000</td>  <th>  Jarque-Bera (JB):  </th> <td>2259.227</td>\n",
       "</tr>\n",
       "<tr>\n",
       "  <th>Skew:</th>          <td> 2.134</td>  <th>  Prob(JB):          </th> <td>    0.00</td>\n",
       "</tr>\n",
       "<tr>\n",
       "  <th>Kurtosis:</th>      <td>12.431</td>  <th>  Cond. No.          </th> <td>2.26e+05</td>\n",
       "</tr>\n",
       "</table><br/><br/>Warnings:<br/>[1] Standard Errors assume that the covariance matrix of the errors is correctly specified.<br/>[2] The condition number is large, 2.26e+05. This might indicate that there are<br/>strong multicollinearity or other numerical problems."
      ],
      "text/plain": [
       "<class 'statsmodels.iolib.summary.Summary'>\n",
       "\"\"\"\n",
       "                            OLS Regression Results                            \n",
       "==============================================================================\n",
       "Dep. Variable:                   MEDV   R-squared:                       0.802\n",
       "Model:                            OLS   Adj. R-squared:                  0.796\n",
       "Method:                 Least Squares   F-statistic:                     132.6\n",
       "Date:                Sun, 22 Mar 2020   Prob (F-statistic):          1.57e-161\n",
       "Time:                        18:29:15   Log-Likelihood:                -1430.1\n",
       "No. Observations:                 506   AIC:                             2892.\n",
       "Df Residuals:                     490   BIC:                             2960.\n",
       "Df Model:                          15                                         \n",
       "Covariance Type:            nonrobust                                         \n",
       "==============================================================================\n",
       "                 coef    std err          t      P>|t|      [0.025      0.975]\n",
       "------------------------------------------------------------------------------\n",
       "const        -82.9787     14.808     -5.604      0.000    -112.074     -53.884\n",
       "CRIM          -0.1396      0.029     -4.831      0.000      -0.196      -0.083\n",
       "ZN             0.0116      0.012      0.941      0.347      -0.013       0.036\n",
       "INDUS          0.1124      0.054      2.068      0.039       0.006       0.219\n",
       "CHAS           3.4039      0.756      4.503      0.000       1.919       4.889\n",
       "NOX          -11.5527      3.399     -3.398      0.001     -18.232      -4.873\n",
       "RM            21.3437      2.171      9.832      0.000      17.079      25.609\n",
       "AGE           -0.0107      0.012     -0.920      0.358      -0.034       0.012\n",
       "DIS           -0.8739      0.181     -4.824      0.000      -1.230      -0.518\n",
       "RAD            0.2456      0.058      4.215      0.000       0.131       0.360\n",
       "TAX            0.0765      0.013      5.875      0.000       0.051       0.102\n",
       "PTRATIO        3.1725      0.894      3.547      0.000       1.415       4.930\n",
       "B              0.0074      0.002      3.158      0.002       0.003       0.012\n",
       "LSTAT         -0.5033      0.045    -11.289      0.000      -0.591      -0.416\n",
       "RM_TAX        -0.0143      0.002     -7.119      0.000      -0.018      -0.010\n",
       "RM_PTRATIO    -0.6183      0.139     -4.445      0.000      -0.892      -0.345\n",
       "==============================================================================\n",
       "Omnibus:                      265.414   Durbin-Watson:                   0.975\n",
       "Prob(Omnibus):                  0.000   Jarque-Bera (JB):             2259.227\n",
       "Skew:                           2.134   Prob(JB):                         0.00\n",
       "Kurtosis:                      12.431   Cond. No.                     2.26e+05\n",
       "==============================================================================\n",
       "\n",
       "Warnings:\n",
       "[1] Standard Errors assume that the covariance matrix of the errors is correctly specified.\n",
       "[2] The condition number is large, 2.26e+05. This might indicate that there are\n",
       "strong multicollinearity or other numerical problems.\n",
       "\"\"\""
      ]
     },
     "execution_count": 127,
     "metadata": {},
     "output_type": "execute_result"
    }
   ],
   "source": [
    "import statsmodels.api as sm\n",
    "X_interact_no_b = sm.add_constant(X_interact_no_b)\n",
    "model = sm.OLS(y,X_interact_no_b)\n",
    "results = model.fit()\n",
    "\n",
    "results.summary()"
   ]
  },
  {
   "cell_type": "markdown",
   "metadata": {},
   "source": [
    "## Summary"
   ]
  },
  {
   "cell_type": "markdown",
   "metadata": {},
   "source": [
    "You should now understand how to include interaction effects in your model! As you can see, interactions can have a strong impact on linear regression models, and they should always be considered when you are constructing your models."
   ]
  }
 ],
 "metadata": {
  "kernelspec": {
   "display_name": "Python 3",
   "language": "python",
   "name": "python3"
  },
  "language_info": {
   "codemirror_mode": {
    "name": "ipython",
    "version": 3
   },
   "file_extension": ".py",
   "mimetype": "text/x-python",
   "name": "python",
   "nbconvert_exporter": "python",
   "pygments_lexer": "ipython3",
   "version": "3.6.9"
  }
 },
 "nbformat": 4,
 "nbformat_minor": 2
}
